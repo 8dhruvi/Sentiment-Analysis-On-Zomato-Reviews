{
 "cells": [
  {
   "cell_type": "code",
   "execution_count": 1,
   "id": "fe5905f4",
   "metadata": {},
   "outputs": [],
   "source": [
    "import pandas as pd\n",
    "import numpy as np\n",
    "import json\n",
    "import re\n",
    "import string\n",
    "import numpy as np\n",
    "import pandas as pd\n",
    "import matplotlib.pyplot as plt\n",
    "from sklearn.model_selection import train_test_split\n",
    "from sklearn.feature_extraction.text import TfidfVectorizer\n",
    "from sklearn.pipeline import Pipeline\n",
    "from sklearn.metrics import confusion_matrix\n",
    "from sklearn.metrics import accuracy_score,precision_score,recall_score\n",
    "from tqdm import tqdm\n",
    "import warnings\n",
    "warnings.filterwarnings('ignore')"
   ]
  },
  {
   "cell_type": "code",
   "execution_count": 2,
   "id": "c77492f9",
   "metadata": {},
   "outputs": [
    {
     "name": "stdout",
     "output_type": "stream",
     "text": [
      "(51717, 17)\n"
     ]
    },
    {
     "data": {
      "text/html": [
       "<div>\n",
       "<style scoped>\n",
       "    .dataframe tbody tr th:only-of-type {\n",
       "        vertical-align: middle;\n",
       "    }\n",
       "\n",
       "    .dataframe tbody tr th {\n",
       "        vertical-align: top;\n",
       "    }\n",
       "\n",
       "    .dataframe thead th {\n",
       "        text-align: right;\n",
       "    }\n",
       "</style>\n",
       "<table border=\"1\" class=\"dataframe\">\n",
       "  <thead>\n",
       "    <tr style=\"text-align: right;\">\n",
       "      <th></th>\n",
       "      <th>url</th>\n",
       "      <th>address</th>\n",
       "      <th>name</th>\n",
       "      <th>online_order</th>\n",
       "      <th>book_table</th>\n",
       "      <th>rate</th>\n",
       "      <th>votes</th>\n",
       "      <th>phone</th>\n",
       "      <th>location</th>\n",
       "      <th>rest_type</th>\n",
       "      <th>dish_liked</th>\n",
       "      <th>cuisines</th>\n",
       "      <th>approx_cost(for two people)</th>\n",
       "      <th>reviews_list</th>\n",
       "      <th>menu_item</th>\n",
       "      <th>listed_in(type)</th>\n",
       "      <th>listed_in(city)</th>\n",
       "    </tr>\n",
       "  </thead>\n",
       "  <tbody>\n",
       "    <tr>\n",
       "      <th>0</th>\n",
       "      <td>https://www.zomato.com/bangalore/jalsa-banasha...</td>\n",
       "      <td>942, 21st Main Road, 2nd Stage, Banashankari, ...</td>\n",
       "      <td>Jalsa</td>\n",
       "      <td>Yes</td>\n",
       "      <td>Yes</td>\n",
       "      <td>4.1/5</td>\n",
       "      <td>775</td>\n",
       "      <td>080 42297555\\r\\n+91 9743772233</td>\n",
       "      <td>Banashankari</td>\n",
       "      <td>Casual Dining</td>\n",
       "      <td>Pasta, Lunch Buffet, Masala Papad, Paneer Laja...</td>\n",
       "      <td>North Indian, Mughlai, Chinese</td>\n",
       "      <td>800</td>\n",
       "      <td>[('Rated 4.0', 'RATED\\n  A beautiful place to ...</td>\n",
       "      <td>[]</td>\n",
       "      <td>Buffet</td>\n",
       "      <td>Banashankari</td>\n",
       "    </tr>\n",
       "    <tr>\n",
       "      <th>1</th>\n",
       "      <td>https://www.zomato.com/bangalore/spice-elephan...</td>\n",
       "      <td>2nd Floor, 80 Feet Road, Near Big Bazaar, 6th ...</td>\n",
       "      <td>Spice Elephant</td>\n",
       "      <td>Yes</td>\n",
       "      <td>No</td>\n",
       "      <td>4.1/5</td>\n",
       "      <td>787</td>\n",
       "      <td>080 41714161</td>\n",
       "      <td>Banashankari</td>\n",
       "      <td>Casual Dining</td>\n",
       "      <td>Momos, Lunch Buffet, Chocolate Nirvana, Thai G...</td>\n",
       "      <td>Chinese, North Indian, Thai</td>\n",
       "      <td>800</td>\n",
       "      <td>[('Rated 4.0', 'RATED\\n  Had been here for din...</td>\n",
       "      <td>[]</td>\n",
       "      <td>Buffet</td>\n",
       "      <td>Banashankari</td>\n",
       "    </tr>\n",
       "    <tr>\n",
       "      <th>2</th>\n",
       "      <td>https://www.zomato.com/SanchurroBangalore?cont...</td>\n",
       "      <td>1112, Next to KIMS Medical College, 17th Cross...</td>\n",
       "      <td>San Churro Cafe</td>\n",
       "      <td>Yes</td>\n",
       "      <td>No</td>\n",
       "      <td>3.8/5</td>\n",
       "      <td>918</td>\n",
       "      <td>+91 9663487993</td>\n",
       "      <td>Banashankari</td>\n",
       "      <td>Cafe, Casual Dining</td>\n",
       "      <td>Churros, Cannelloni, Minestrone Soup, Hot Choc...</td>\n",
       "      <td>Cafe, Mexican, Italian</td>\n",
       "      <td>800</td>\n",
       "      <td>[('Rated 3.0', \"RATED\\n  Ambience is not that ...</td>\n",
       "      <td>[]</td>\n",
       "      <td>Buffet</td>\n",
       "      <td>Banashankari</td>\n",
       "    </tr>\n",
       "    <tr>\n",
       "      <th>3</th>\n",
       "      <td>https://www.zomato.com/bangalore/addhuri-udupi...</td>\n",
       "      <td>1st Floor, Annakuteera, 3rd Stage, Banashankar...</td>\n",
       "      <td>Addhuri Udupi Bhojana</td>\n",
       "      <td>No</td>\n",
       "      <td>No</td>\n",
       "      <td>3.7/5</td>\n",
       "      <td>88</td>\n",
       "      <td>+91 9620009302</td>\n",
       "      <td>Banashankari</td>\n",
       "      <td>Quick Bites</td>\n",
       "      <td>Masala Dosa</td>\n",
       "      <td>South Indian, North Indian</td>\n",
       "      <td>300</td>\n",
       "      <td>[('Rated 4.0', \"RATED\\n  Great food and proper...</td>\n",
       "      <td>[]</td>\n",
       "      <td>Buffet</td>\n",
       "      <td>Banashankari</td>\n",
       "    </tr>\n",
       "    <tr>\n",
       "      <th>4</th>\n",
       "      <td>https://www.zomato.com/bangalore/grand-village...</td>\n",
       "      <td>10, 3rd Floor, Lakshmi Associates, Gandhi Baza...</td>\n",
       "      <td>Grand Village</td>\n",
       "      <td>No</td>\n",
       "      <td>No</td>\n",
       "      <td>3.8/5</td>\n",
       "      <td>166</td>\n",
       "      <td>+91 8026612447\\r\\n+91 9901210005</td>\n",
       "      <td>Basavanagudi</td>\n",
       "      <td>Casual Dining</td>\n",
       "      <td>Panipuri, Gol Gappe</td>\n",
       "      <td>North Indian, Rajasthani</td>\n",
       "      <td>600</td>\n",
       "      <td>[('Rated 4.0', 'RATED\\n  Very good restaurant ...</td>\n",
       "      <td>[]</td>\n",
       "      <td>Buffet</td>\n",
       "      <td>Banashankari</td>\n",
       "    </tr>\n",
       "  </tbody>\n",
       "</table>\n",
       "</div>"
      ],
      "text/plain": [
       "                                                 url  \\\n",
       "0  https://www.zomato.com/bangalore/jalsa-banasha...   \n",
       "1  https://www.zomato.com/bangalore/spice-elephan...   \n",
       "2  https://www.zomato.com/SanchurroBangalore?cont...   \n",
       "3  https://www.zomato.com/bangalore/addhuri-udupi...   \n",
       "4  https://www.zomato.com/bangalore/grand-village...   \n",
       "\n",
       "                                             address                   name  \\\n",
       "0  942, 21st Main Road, 2nd Stage, Banashankari, ...                  Jalsa   \n",
       "1  2nd Floor, 80 Feet Road, Near Big Bazaar, 6th ...         Spice Elephant   \n",
       "2  1112, Next to KIMS Medical College, 17th Cross...        San Churro Cafe   \n",
       "3  1st Floor, Annakuteera, 3rd Stage, Banashankar...  Addhuri Udupi Bhojana   \n",
       "4  10, 3rd Floor, Lakshmi Associates, Gandhi Baza...          Grand Village   \n",
       "\n",
       "  online_order book_table   rate  votes                             phone  \\\n",
       "0          Yes        Yes  4.1/5    775    080 42297555\\r\\n+91 9743772233   \n",
       "1          Yes         No  4.1/5    787                      080 41714161   \n",
       "2          Yes         No  3.8/5    918                    +91 9663487993   \n",
       "3           No         No  3.7/5     88                    +91 9620009302   \n",
       "4           No         No  3.8/5    166  +91 8026612447\\r\\n+91 9901210005   \n",
       "\n",
       "       location            rest_type  \\\n",
       "0  Banashankari        Casual Dining   \n",
       "1  Banashankari        Casual Dining   \n",
       "2  Banashankari  Cafe, Casual Dining   \n",
       "3  Banashankari          Quick Bites   \n",
       "4  Basavanagudi        Casual Dining   \n",
       "\n",
       "                                          dish_liked  \\\n",
       "0  Pasta, Lunch Buffet, Masala Papad, Paneer Laja...   \n",
       "1  Momos, Lunch Buffet, Chocolate Nirvana, Thai G...   \n",
       "2  Churros, Cannelloni, Minestrone Soup, Hot Choc...   \n",
       "3                                        Masala Dosa   \n",
       "4                                Panipuri, Gol Gappe   \n",
       "\n",
       "                         cuisines approx_cost(for two people)  \\\n",
       "0  North Indian, Mughlai, Chinese                         800   \n",
       "1     Chinese, North Indian, Thai                         800   \n",
       "2          Cafe, Mexican, Italian                         800   \n",
       "3      South Indian, North Indian                         300   \n",
       "4        North Indian, Rajasthani                         600   \n",
       "\n",
       "                                        reviews_list menu_item  \\\n",
       "0  [('Rated 4.0', 'RATED\\n  A beautiful place to ...        []   \n",
       "1  [('Rated 4.0', 'RATED\\n  Had been here for din...        []   \n",
       "2  [('Rated 3.0', \"RATED\\n  Ambience is not that ...        []   \n",
       "3  [('Rated 4.0', \"RATED\\n  Great food and proper...        []   \n",
       "4  [('Rated 4.0', 'RATED\\n  Very good restaurant ...        []   \n",
       "\n",
       "  listed_in(type) listed_in(city)  \n",
       "0          Buffet    Banashankari  \n",
       "1          Buffet    Banashankari  \n",
       "2          Buffet    Banashankari  \n",
       "3          Buffet    Banashankari  \n",
       "4          Buffet    Banashankari  "
      ]
     },
     "execution_count": 2,
     "metadata": {},
     "output_type": "execute_result"
    }
   ],
   "source": [
    "# LOADING DATASET\n",
    "zomato_orgnl = pd.read_csv('zomato.csv')\n",
    "# print(zomato_orgnl)\n",
    "print(zomato_orgnl.shape)\n",
    "zomato_orgnl.head()"
   ]
  },
  {
   "cell_type": "code",
   "execution_count": 3,
   "id": "f9b34601",
   "metadata": {},
   "outputs": [
    {
     "name": "stdout",
     "output_type": "stream",
     "text": [
      "<class 'pandas.core.frame.DataFrame'>\n",
      "RangeIndex: 51717 entries, 0 to 51716\n",
      "Data columns (total 17 columns):\n",
      " #   Column                       Non-Null Count  Dtype \n",
      "---  ------                       --------------  ----- \n",
      " 0   url                          51717 non-null  object\n",
      " 1   address                      51717 non-null  object\n",
      " 2   name                         51717 non-null  object\n",
      " 3   online_order                 51717 non-null  object\n",
      " 4   book_table                   51717 non-null  object\n",
      " 5   rate                         43942 non-null  object\n",
      " 6   votes                        51717 non-null  int64 \n",
      " 7   phone                        50509 non-null  object\n",
      " 8   location                     51696 non-null  object\n",
      " 9   rest_type                    51490 non-null  object\n",
      " 10  dish_liked                   23639 non-null  object\n",
      " 11  cuisines                     51672 non-null  object\n",
      " 12  approx_cost(for two people)  51371 non-null  object\n",
      " 13  reviews_list                 51717 non-null  object\n",
      " 14  menu_item                    51717 non-null  object\n",
      " 15  listed_in(type)              51717 non-null  object\n",
      " 16  listed_in(city)              51717 non-null  object\n",
      "dtypes: int64(1), object(16)\n",
      "memory usage: 6.7+ MB\n"
     ]
    }
   ],
   "source": [
    "zomato_orgnl.info()"
   ]
  },
  {
   "cell_type": "code",
   "execution_count": 4,
   "id": "bf3bd784",
   "metadata": {},
   "outputs": [],
   "source": [
    "#Deleting Unnnecessary Columns\n",
    "zomato=zomato_orgnl.drop(['url','dish_liked','phone','listed_in(city)','address','online_order','book_table','votes','location','rest_type','cuisines','approx_cost(for two people)','menu_item','listed_in(type)'],axis=1) "
   ]
  },
  {
   "cell_type": "code",
   "execution_count": 5,
   "id": "b326cf65",
   "metadata": {},
   "outputs": [
    {
     "name": "stdout",
     "output_type": "stream",
     "text": [
      "<class 'pandas.core.frame.DataFrame'>\n",
      "RangeIndex: 51717 entries, 0 to 51716\n",
      "Data columns (total 3 columns):\n",
      " #   Column        Non-Null Count  Dtype \n",
      "---  ------        --------------  ----- \n",
      " 0   name          51717 non-null  object\n",
      " 1   rate          43942 non-null  object\n",
      " 2   reviews_list  51717 non-null  object\n",
      "dtypes: object(3)\n",
      "memory usage: 1.2+ MB\n"
     ]
    }
   ],
   "source": [
    "zomato.info()"
   ]
  },
  {
   "cell_type": "code",
   "execution_count": 6,
   "id": "c3de2593",
   "metadata": {},
   "outputs": [],
   "source": [
    "#Removing the Duplicates\n",
    "zomato.duplicated().sum()\n",
    "zomato.drop_duplicates(inplace=True)"
   ]
  },
  {
   "cell_type": "code",
   "execution_count": 7,
   "id": "f3108656",
   "metadata": {},
   "outputs": [
    {
     "name": "stdout",
     "output_type": "stream",
     "text": [
      "<class 'pandas.core.frame.DataFrame'>\n",
      "Int64Index: 25439 entries, 0 to 51703\n",
      "Data columns (total 3 columns):\n",
      " #   Column        Non-Null Count  Dtype \n",
      "---  ------        --------------  ----- \n",
      " 0   name          25439 non-null  object\n",
      " 1   rate          25439 non-null  object\n",
      " 2   reviews_list  25439 non-null  object\n",
      "dtypes: object(3)\n",
      "memory usage: 795.0+ KB\n"
     ]
    }
   ],
   "source": [
    "#Remove the NaN values from the dataset\n",
    "zomato.isnull().sum()\n",
    "zomato.dropna(how='any',inplace=True)\n",
    "zomato.info()"
   ]
  },
  {
   "cell_type": "code",
   "execution_count": 8,
   "id": "421be51b",
   "metadata": {},
   "outputs": [
    {
     "name": "stdout",
     "output_type": "stream",
     "text": [
      "<class 'pandas.core.frame.DataFrame'>\n",
      "Int64Index: 25439 entries, 0 to 51703\n",
      "Data columns (total 3 columns):\n",
      " #   Column        Non-Null Count  Dtype \n",
      "---  ------        --------------  ----- \n",
      " 0   name          25439 non-null  object\n",
      " 1   rate          25439 non-null  object\n",
      " 2   reviews_list  25439 non-null  object\n",
      "dtypes: object(3)\n",
      "memory usage: 795.0+ KB\n"
     ]
    }
   ],
   "source": [
    "#Remove the NaN values from the dataset\n",
    "zomato.isnull().sum()\n",
    "zomato.dropna(how='any',inplace=True)\n",
    "zomato.info()"
   ]
  },
  {
   "cell_type": "code",
   "execution_count": 9,
   "id": "1a901f0c",
   "metadata": {},
   "outputs": [
    {
     "data": {
      "text/plain": [
       "0    4.1\n",
       "1    4.1\n",
       "2    3.8\n",
       "3    3.7\n",
       "4    3.8\n",
       "Name: rate, dtype: float64"
      ]
     },
     "execution_count": 9,
     "metadata": {},
     "output_type": "execute_result"
    }
   ],
   "source": [
    "#Removing '/5' from Rates\n",
    "zomato['rate'].unique()\n",
    "zomato = zomato.loc[zomato.rate !='NEW']\n",
    "zomato = zomato.loc[zomato.rate !='-'].reset_index(drop=True)\n",
    "remove_slash = lambda x: x.replace('/5', '') if type(x) == np.str else x\n",
    "zomato.rate = zomato.rate.apply(remove_slash).str.strip().astype('float')\n",
    "zomato['rate'].head()"
   ]
  },
  {
   "cell_type": "code",
   "execution_count": 10,
   "id": "880cac0c",
   "metadata": {},
   "outputs": [
    {
     "data": {
      "text/html": [
       "<div>\n",
       "<style scoped>\n",
       "    .dataframe tbody tr th:only-of-type {\n",
       "        vertical-align: middle;\n",
       "    }\n",
       "\n",
       "    .dataframe tbody tr th {\n",
       "        vertical-align: top;\n",
       "    }\n",
       "\n",
       "    .dataframe thead th {\n",
       "        text-align: right;\n",
       "    }\n",
       "</style>\n",
       "<table border=\"1\" class=\"dataframe\">\n",
       "  <thead>\n",
       "    <tr style=\"text-align: right;\">\n",
       "      <th></th>\n",
       "      <th>name</th>\n",
       "      <th>rate</th>\n",
       "      <th>reviews_list</th>\n",
       "    </tr>\n",
       "  </thead>\n",
       "  <tbody>\n",
       "    <tr>\n",
       "      <th>0</th>\n",
       "      <td>Jalsa</td>\n",
       "      <td>4.1</td>\n",
       "      <td>[('Rated 4.0', 'RATED\\n  A beautiful place to ...</td>\n",
       "    </tr>\n",
       "    <tr>\n",
       "      <th>1</th>\n",
       "      <td>Spice Elephant</td>\n",
       "      <td>4.1</td>\n",
       "      <td>[('Rated 4.0', 'RATED\\n  Had been here for din...</td>\n",
       "    </tr>\n",
       "    <tr>\n",
       "      <th>2</th>\n",
       "      <td>San Churro Cafe</td>\n",
       "      <td>3.8</td>\n",
       "      <td>[('Rated 3.0', \"RATED\\n  Ambience is not that ...</td>\n",
       "    </tr>\n",
       "    <tr>\n",
       "      <th>3</th>\n",
       "      <td>Addhuri Udupi Bhojana</td>\n",
       "      <td>3.7</td>\n",
       "      <td>[('Rated 4.0', \"RATED\\n  Great food and proper...</td>\n",
       "    </tr>\n",
       "    <tr>\n",
       "      <th>4</th>\n",
       "      <td>Grand Village</td>\n",
       "      <td>3.8</td>\n",
       "      <td>[('Rated 4.0', 'RATED\\n  Very good restaurant ...</td>\n",
       "    </tr>\n",
       "  </tbody>\n",
       "</table>\n",
       "</div>"
      ],
      "text/plain": [
       "                    name  rate  \\\n",
       "0                  Jalsa   4.1   \n",
       "1         Spice Elephant   4.1   \n",
       "2        San Churro Cafe   3.8   \n",
       "3  Addhuri Udupi Bhojana   3.7   \n",
       "4          Grand Village   3.8   \n",
       "\n",
       "                                        reviews_list  \n",
       "0  [('Rated 4.0', 'RATED\\n  A beautiful place to ...  \n",
       "1  [('Rated 4.0', 'RATED\\n  Had been here for din...  \n",
       "2  [('Rated 3.0', \"RATED\\n  Ambience is not that ...  \n",
       "3  [('Rated 4.0', \"RATED\\n  Great food and proper...  \n",
       "4  [('Rated 4.0', 'RATED\\n  Very good restaurant ...  "
      ]
     },
     "execution_count": 10,
     "metadata": {},
     "output_type": "execute_result"
    }
   ],
   "source": [
    "zomato.head()"
   ]
  },
  {
   "cell_type": "code",
   "execution_count": 11,
   "id": "b65c51b9",
   "metadata": {},
   "outputs": [],
   "source": [
    "df = zomato.copy()"
   ]
  },
  {
   "cell_type": "code",
   "execution_count": 12,
   "id": "0623348b",
   "metadata": {},
   "outputs": [
    {
     "name": "stdout",
     "output_type": "stream",
     "text": [
      "<class 'pandas.core.frame.DataFrame'>\n",
      "RangeIndex: 24434 entries, 0 to 24433\n",
      "Data columns (total 3 columns):\n",
      " #   Column        Non-Null Count  Dtype  \n",
      "---  ------        --------------  -----  \n",
      " 0   name          24434 non-null  object \n",
      " 1   rate          24434 non-null  float64\n",
      " 2   reviews_list  24434 non-null  object \n",
      "dtypes: float64(1), object(2)\n",
      "memory usage: 572.8+ KB\n"
     ]
    }
   ],
   "source": [
    "df.info()"
   ]
  },
  {
   "cell_type": "code",
   "execution_count": 13,
   "id": "9897ea32",
   "metadata": {},
   "outputs": [
    {
     "data": {
      "text/plain": [
       "name            24434\n",
       "rate            24434\n",
       "reviews_list    24434\n",
       "dtype: int64"
      ]
     },
     "execution_count": 13,
     "metadata": {},
     "output_type": "execute_result"
    }
   ],
   "source": [
    "df.count()"
   ]
  },
  {
   "cell_type": "code",
   "execution_count": 14,
   "id": "58f5d8d5",
   "metadata": {},
   "outputs": [
    {
     "data": {
      "text/plain": [
       "name            24434\n",
       "rate            24434\n",
       "reviews_list    24434\n",
       "dtype: int64"
      ]
     },
     "execution_count": 14,
     "metadata": {},
     "output_type": "execute_result"
    }
   ],
   "source": [
    "df.isnull().count()"
   ]
  },
  {
   "cell_type": "code",
   "execution_count": 15,
   "id": "64c9966b",
   "metadata": {},
   "outputs": [],
   "source": [
    "Rate=df.rate.tolist()\n",
    "#Big rating"
   ]
  },
  {
   "cell_type": "code",
   "execution_count": 16,
   "id": "be698ee6",
   "metadata": {},
   "outputs": [],
   "source": [
    "for i in range(0,len(Rate)):\n",
    "    Rate[i]=float(Rate[i])"
   ]
  },
  {
   "cell_type": "code",
   "execution_count": 17,
   "id": "3e57f7dc",
   "metadata": {},
   "outputs": [
    {
     "name": "stdout",
     "output_type": "stream",
     "text": [
      "[1.8 2.  2.1 2.2 2.3 2.4 2.5 2.6 2.7 2.8 2.9 3.  3.1 3.2 3.3 3.4 3.5 3.6\n",
      " 3.7 3.8 3.9 4.  4.1 4.2 4.3 4.4 4.5 4.6 4.7 4.8 4.9]\n"
     ]
    }
   ],
   "source": [
    "print(np.unique(Rate))"
   ]
  },
  {
   "cell_type": "code",
   "execution_count": 18,
   "id": "35839ed9",
   "metadata": {},
   "outputs": [],
   "source": [
    "df['Rate']=Rate\n",
    "#rate and Rate are different"
   ]
  },
  {
   "cell_type": "code",
   "execution_count": 19,
   "id": "4ec6c304",
   "metadata": {},
   "outputs": [
    {
     "data": {
      "text/plain": [
       "(24434, 4)"
      ]
     },
     "execution_count": 19,
     "metadata": {},
     "output_type": "execute_result"
    }
   ],
   "source": [
    "df.shape"
   ]
  },
  {
   "cell_type": "code",
   "execution_count": 20,
   "id": "09849b70",
   "metadata": {},
   "outputs": [
    {
     "data": {
      "image/png": "[encoded data removed]",
      "text/plain": [
       "<Figure size 432x288 with 1 Axes>"
      ]
     },
     "metadata": {},
     "output_type": "display_data"
    }
   ],
   "source": [
    "import matplotlib.pyplot as plt\n",
    "y=np.unique(Rate)\n",
    "mylabels=[1.8,2.,2.1,2.2,2.3,2.4,2.5,2.6,2.7,2.8,2.9,3.,3.1,3.2,3.3,3.4,3.5,3.6,3.7,3.8,3.9,4.,4.1,4.2,4.3,4.4,4.5,4.6,4.7,4.8,4.9]\n",
    "plt.pie(y,labels=mylabels,autopct='%1.1f%%',explode=(0.1,0.1,0.1,0.1,0.1,0.1,0.1,0.1,0.1,0.1,0.1,0.1,0.1,0.1,0.1,0.1,0.1,0.1,0.1,0.1,0.1,0.1,0.1,0.1,0.1,0.1,0.1,0.1,0.1,0.1,0.1))\n",
    "plt.legend(title='RATINGS',bbox_to_anchor=(3,1),loc='right')\n",
    "plt.title('Percentage of restaurants based on their ratings:')\n",
    "plt.show()"
   ]
  },
  {
   "cell_type": "code",
   "execution_count": 21,
   "id": "fce5501a",
   "metadata": {},
   "outputs": [
    {
     "data": {
      "text/plain": [
       "24434"
      ]
     },
     "execution_count": 21,
     "metadata": {},
     "output_type": "execute_result"
    }
   ],
   "source": [
    "df['reviews_list'].count()"
   ]
  },
  {
   "cell_type": "code",
   "execution_count": 22,
   "id": "f966b263",
   "metadata": {},
   "outputs": [
    {
     "data": {
      "text/plain": [
       "(1.797, 2.42]      120\n",
       "(2.42, 3.04]      1839\n",
       "(3.04, 3.66]      7360\n",
       "(3.66, 4.28]     11568\n",
       "(4.28, 4.9]       3547\n",
       "Name: Rate, dtype: int64"
      ]
     },
     "execution_count": 22,
     "metadata": {},
     "output_type": "execute_result"
    }
   ],
   "source": [
    "pd.cut(df['Rate'],bins=5).value_counts(sort=False)"
   ]
  },
  {
   "cell_type": "code",
   "execution_count": 23,
   "id": "d2249247",
   "metadata": {},
   "outputs": [
    {
     "data": {
      "text/html": [
       "<div>\n",
       "<style scoped>\n",
       "    .dataframe tbody tr th:only-of-type {\n",
       "        vertical-align: middle;\n",
       "    }\n",
       "\n",
       "    .dataframe tbody tr th {\n",
       "        vertical-align: top;\n",
       "    }\n",
       "\n",
       "    .dataframe thead th {\n",
       "        text-align: right;\n",
       "    }\n",
       "</style>\n",
       "<table border=\"1\" class=\"dataframe\">\n",
       "  <thead>\n",
       "    <tr style=\"text-align: right;\">\n",
       "      <th></th>\n",
       "      <th>name</th>\n",
       "      <th>rate</th>\n",
       "      <th>reviews_list</th>\n",
       "      <th>Rate</th>\n",
       "      <th>sentiment</th>\n",
       "    </tr>\n",
       "  </thead>\n",
       "  <tbody>\n",
       "    <tr>\n",
       "      <th>0</th>\n",
       "      <td>Jalsa</td>\n",
       "      <td>4.1</td>\n",
       "      <td>[('Rated 4.0', 'RATED\\n  A beautiful place to ...</td>\n",
       "      <td>4.1</td>\n",
       "      <td>good</td>\n",
       "    </tr>\n",
       "    <tr>\n",
       "      <th>1</th>\n",
       "      <td>Spice Elephant</td>\n",
       "      <td>4.1</td>\n",
       "      <td>[('Rated 4.0', 'RATED\\n  Had been here for din...</td>\n",
       "      <td>4.1</td>\n",
       "      <td>good</td>\n",
       "    </tr>\n",
       "    <tr>\n",
       "      <th>2</th>\n",
       "      <td>San Churro Cafe</td>\n",
       "      <td>3.8</td>\n",
       "      <td>[('Rated 3.0', \"RATED\\n  Ambience is not that ...</td>\n",
       "      <td>3.8</td>\n",
       "      <td>good</td>\n",
       "    </tr>\n",
       "    <tr>\n",
       "      <th>3</th>\n",
       "      <td>Addhuri Udupi Bhojana</td>\n",
       "      <td>3.7</td>\n",
       "      <td>[('Rated 4.0', \"RATED\\n  Great food and proper...</td>\n",
       "      <td>3.7</td>\n",
       "      <td>good</td>\n",
       "    </tr>\n",
       "    <tr>\n",
       "      <th>4</th>\n",
       "      <td>Grand Village</td>\n",
       "      <td>3.8</td>\n",
       "      <td>[('Rated 4.0', 'RATED\\n  Very good restaurant ...</td>\n",
       "      <td>3.8</td>\n",
       "      <td>good</td>\n",
       "    </tr>\n",
       "  </tbody>\n",
       "</table>\n",
       "</div>"
      ],
      "text/plain": [
       "                    name  rate  \\\n",
       "0                  Jalsa   4.1   \n",
       "1         Spice Elephant   4.1   \n",
       "2        San Churro Cafe   3.8   \n",
       "3  Addhuri Udupi Bhojana   3.7   \n",
       "4          Grand Village   3.8   \n",
       "\n",
       "                                        reviews_list  Rate sentiment  \n",
       "0  [('Rated 4.0', 'RATED\\n  A beautiful place to ...   4.1      good  \n",
       "1  [('Rated 4.0', 'RATED\\n  Had been here for din...   4.1      good  \n",
       "2  [('Rated 3.0', \"RATED\\n  Ambience is not that ...   3.8      good  \n",
       "3  [('Rated 4.0', \"RATED\\n  Great food and proper...   3.7      good  \n",
       "4  [('Rated 4.0', 'RATED\\n  Very good restaurant ...   3.8      good  "
      ]
     },
     "execution_count": 23,
     "metadata": {},
     "output_type": "execute_result"
    }
   ],
   "source": [
    "labels=['worst','bad','average','good','best']\n",
    "df['sentiment']=pd.cut(df['Rate'],bins=5,labels=labels)\n",
    "df.head(5)"
   ]
  },
  {
   "cell_type": "code",
   "execution_count": 24,
   "id": "5ff2ed43",
   "metadata": {},
   "outputs": [],
   "source": [
    "#dropping extra rate column\n",
    "df.drop(['rate'], axis='columns', inplace=True)"
   ]
  },
  {
   "cell_type": "code",
   "execution_count": 25,
   "id": "cd5fd0aa",
   "metadata": {},
   "outputs": [
    {
     "data": {
      "text/html": [
       "<div>\n",
       "<style scoped>\n",
       "    .dataframe tbody tr th:only-of-type {\n",
       "        vertical-align: middle;\n",
       "    }\n",
       "\n",
       "    .dataframe tbody tr th {\n",
       "        vertical-align: top;\n",
       "    }\n",
       "\n",
       "    .dataframe thead th {\n",
       "        text-align: right;\n",
       "    }\n",
       "</style>\n",
       "<table border=\"1\" class=\"dataframe\">\n",
       "  <thead>\n",
       "    <tr style=\"text-align: right;\">\n",
       "      <th></th>\n",
       "      <th>name</th>\n",
       "      <th>reviews_list</th>\n",
       "      <th>Rate</th>\n",
       "      <th>sentiment</th>\n",
       "    </tr>\n",
       "  </thead>\n",
       "  <tbody>\n",
       "    <tr>\n",
       "      <th>0</th>\n",
       "      <td>Jalsa</td>\n",
       "      <td>[('Rated 4.0', 'RATED\\n  A beautiful place to ...</td>\n",
       "      <td>4.1</td>\n",
       "      <td>good</td>\n",
       "    </tr>\n",
       "    <tr>\n",
       "      <th>1</th>\n",
       "      <td>Spice Elephant</td>\n",
       "      <td>[('Rated 4.0', 'RATED\\n  Had been here for din...</td>\n",
       "      <td>4.1</td>\n",
       "      <td>good</td>\n",
       "    </tr>\n",
       "    <tr>\n",
       "      <th>2</th>\n",
       "      <td>San Churro Cafe</td>\n",
       "      <td>[('Rated 3.0', \"RATED\\n  Ambience is not that ...</td>\n",
       "      <td>3.8</td>\n",
       "      <td>good</td>\n",
       "    </tr>\n",
       "    <tr>\n",
       "      <th>3</th>\n",
       "      <td>Addhuri Udupi Bhojana</td>\n",
       "      <td>[('Rated 4.0', \"RATED\\n  Great food and proper...</td>\n",
       "      <td>3.7</td>\n",
       "      <td>good</td>\n",
       "    </tr>\n",
       "    <tr>\n",
       "      <th>4</th>\n",
       "      <td>Grand Village</td>\n",
       "      <td>[('Rated 4.0', 'RATED\\n  Very good restaurant ...</td>\n",
       "      <td>3.8</td>\n",
       "      <td>good</td>\n",
       "    </tr>\n",
       "  </tbody>\n",
       "</table>\n",
       "</div>"
      ],
      "text/plain": [
       "                    name                                       reviews_list  \\\n",
       "0                  Jalsa  [('Rated 4.0', 'RATED\\n  A beautiful place to ...   \n",
       "1         Spice Elephant  [('Rated 4.0', 'RATED\\n  Had been here for din...   \n",
       "2        San Churro Cafe  [('Rated 3.0', \"RATED\\n  Ambience is not that ...   \n",
       "3  Addhuri Udupi Bhojana  [('Rated 4.0', \"RATED\\n  Great food and proper...   \n",
       "4          Grand Village  [('Rated 4.0', 'RATED\\n  Very good restaurant ...   \n",
       "\n",
       "   Rate sentiment  \n",
       "0   4.1      good  \n",
       "1   4.1      good  \n",
       "2   3.8      good  \n",
       "3   3.7      good  \n",
       "4   3.8      good  "
      ]
     },
     "execution_count": 25,
     "metadata": {},
     "output_type": "execute_result"
    }
   ],
   "source": [
    "df.head()"
   ]
  },
  {
   "cell_type": "code",
   "execution_count": 26,
   "id": "ee0e6590",
   "metadata": {},
   "outputs": [],
   "source": [
    "my_file=df.copy() #.....Done this for saving csv file"
   ]
  },
  {
   "cell_type": "code",
   "execution_count": 27,
   "id": "fff7a16e",
   "metadata": {},
   "outputs": [],
   "source": [
    "#dropping reviews_list column\n",
    "my_file.drop(['reviews_list'], axis='columns', inplace=True) #.....\n",
    "#text lower casing\n",
    "my_file['Name'] = my_file['name'].str.upper()\n",
    "my_file.drop(['name'], axis='columns', inplace=True)"
   ]
  },
  {
   "cell_type": "code",
   "execution_count": 28,
   "id": "d00c413a",
   "metadata": {},
   "outputs": [],
   "source": [
    "# my_file.to_csv(\"Final-search_edited.csv\") #....\n",
    "# # # already saved"
   ]
  },
  {
   "cell_type": "code",
   "execution_count": 29,
   "id": "18d39f94",
   "metadata": {},
   "outputs": [],
   "source": [
    "df1=df.copy()"
   ]
  },
  {
   "cell_type": "code",
   "execution_count": 30,
   "id": "562a4c00",
   "metadata": {},
   "outputs": [
    {
     "name": "stdout",
     "output_type": "stream",
     "text": [
      "<class 'pandas.core.frame.DataFrame'>\n",
      "RangeIndex: 24434 entries, 0 to 24433\n",
      "Data columns (total 4 columns):\n",
      " #   Column        Non-Null Count  Dtype   \n",
      "---  ------        --------------  -----   \n",
      " 0   name          24434 non-null  object  \n",
      " 1   reviews_list  24434 non-null  object  \n",
      " 2   Rate          24434 non-null  float64 \n",
      " 3   sentiment     24434 non-null  category\n",
      "dtypes: category(1), float64(1), object(2)\n",
      "memory usage: 596.9+ KB\n"
     ]
    }
   ],
   "source": [
    "df1.info()"
   ]
  },
  {
   "cell_type": "markdown",
   "id": "364ad16e",
   "metadata": {},
   "source": [
    "# TEXT PROCESSING AND CLEANING"
   ]
  },
  {
   "cell_type": "code",
   "execution_count": 31,
   "id": "c521577a",
   "metadata": {},
   "outputs": [
    {
     "name": "stderr",
     "output_type": "stream",
     "text": [
      "100%|███████████████████████████████████████████████████████████████████████████| 24434/24434 [00:24<00:00, 990.37it/s]\n"
     ]
    }
   ],
   "source": [
    "# Retriving the text data\n",
    "from tqdm import tqdm\n",
    "all_ratings = []\n",
    "\n",
    "for reviews_list in tqdm(df1['reviews_list']):\n",
    "    reviews_list = eval(reviews_list)\n",
    "    \n",
    "    for score, doc in reviews_list:\n",
    "        if score:\n",
    "            score = score.strip(\"Rated\").strip()\n",
    "            doc = doc.strip('RATED').strip()\n",
    "            \n",
    "            score = float(score)\n",
    "            all_ratings.append([score, doc,])"
   ]
  },
  {
   "cell_type": "code",
   "execution_count": 32,
   "id": "cf487e8c",
   "metadata": {},
   "outputs": [
    {
     "name": "stdout",
     "output_type": "stream",
     "text": [
      "(1228794, 2)\n"
     ]
    },
    {
     "data": {
      "text/html": [
       "<div>\n",
       "<style scoped>\n",
       "    .dataframe tbody tr th:only-of-type {\n",
       "        vertical-align: middle;\n",
       "    }\n",
       "\n",
       "    .dataframe tbody tr th {\n",
       "        vertical-align: top;\n",
       "    }\n",
       "\n",
       "    .dataframe thead th {\n",
       "        text-align: right;\n",
       "    }\n",
       "</style>\n",
       "<table border=\"1\" class=\"dataframe\">\n",
       "  <thead>\n",
       "    <tr style=\"text-align: right;\">\n",
       "      <th></th>\n",
       "      <th>score</th>\n",
       "      <th>doc</th>\n",
       "    </tr>\n",
       "  </thead>\n",
       "  <tbody>\n",
       "    <tr>\n",
       "      <th>0</th>\n",
       "      <td>4.0</td>\n",
       "      <td>A beautiful place to dine in.The interiors tak...</td>\n",
       "    </tr>\n",
       "    <tr>\n",
       "      <th>1</th>\n",
       "      <td>4.0</td>\n",
       "      <td>I was here for dinner with my family on a week...</td>\n",
       "    </tr>\n",
       "    <tr>\n",
       "      <th>2</th>\n",
       "      <td>2.0</td>\n",
       "      <td>Its a restaurant near to Banashankari BDA. Me ...</td>\n",
       "    </tr>\n",
       "    <tr>\n",
       "      <th>3</th>\n",
       "      <td>4.0</td>\n",
       "      <td>We went here on a weekend and one of us had th...</td>\n",
       "    </tr>\n",
       "    <tr>\n",
       "      <th>4</th>\n",
       "      <td>5.0</td>\n",
       "      <td>The best thing about the place is itÃÃÃÃ...</td>\n",
       "    </tr>\n",
       "  </tbody>\n",
       "</table>\n",
       "</div>"
      ],
      "text/plain": [
       "   score                                                doc\n",
       "0    4.0  A beautiful place to dine in.The interiors tak...\n",
       "1    4.0  I was here for dinner with my family on a week...\n",
       "2    2.0  Its a restaurant near to Banashankari BDA. Me ...\n",
       "3    4.0  We went here on a weekend and one of us had th...\n",
       "4    5.0  The best thing about the place is itÃÃÃÃ..."
      ]
     },
     "execution_count": 32,
     "metadata": {},
     "output_type": "execute_result"
    }
   ],
   "source": [
    "ratings_df = pd.DataFrame(all_ratings, columns=['score', 'doc'])\n",
    "\n",
    "print(ratings_df.shape)\n",
    "ratings_df.head()\n",
    "# print(all_ratings)"
   ]
  },
  {
   "cell_type": "code",
   "execution_count": 33,
   "id": "1b179cf5",
   "metadata": {},
   "outputs": [
    {
     "data": {
      "text/plain": [
       "array([4. , 2. , 5. , 3. , 1. , 3.5, 1.5, 4.5, 2.5])"
      ]
     },
     "execution_count": 33,
     "metadata": {},
     "output_type": "execute_result"
    }
   ],
   "source": [
    "ratings_df['score'].unique()"
   ]
  },
  {
   "cell_type": "code",
   "execution_count": 34,
   "id": "837b9b19",
   "metadata": {},
   "outputs": [
    {
     "name": "stdout",
     "output_type": "stream",
     "text": [
      "Great food and pleasant ambience. Expensive but Coll place to chill and relax......\n",
      "\n",
      "Service is really very very good and friendly staff...\n",
      "\n",
      "Food : 5/5\n",
      "Service : 5/5\n",
      "Ambience :5/5\n",
      "Overall :5/5\n",
      "I was looking for a quite place to spend some time with family and as well wanted to try some new place. Since I was at Banashankari I thought of trying this place. The place had good rating and was part of Zomato gold. So I decided to try this place. It was a delite to see a very friendly staff and food we ordered was very tasty as well.\n",
      "\n",
      "Food : 4/5\n",
      "Ambience :3/5\n",
      "Friendly staff : 4/5\n",
      "Pocket friendly : 4/5\n",
      "\n",
      "Will definitely visit again ??\n",
      "Food: 8/10\n",
      "Ambience:8/10\n",
      "Staff:8/10\n",
      "One of the good places to try north Indian food...but depends on ur taste buds. Not everyone will like all the items here. Specially when u r particular abt sweet and spicy food.\n",
      "There's buffet available too.\n",
      "We had ordered paneer uttar dakshin and paneer kurchan..was amazing. The Gobi hara pyaz and mix veg were average.\n",
      "One of my favourite places that I often visit in South bangalore , but quality has been reduced than before. Little unhappy with the food this time.\n",
      "But their churros never dissapointed me. Staff are too slow and do not respond easily.\n",
      "\n",
      "Soups:\n",
      "Minestrone soup was like vegetable stock water with vegetables in it, not happy with it.\n",
      "\n",
      "Churros :\n",
      "It was great as usual. A must visit place if u love churros.\n",
      "\n",
      "Starters:\n",
      "1. Africano panner -\n",
      "It was bit sweet and not happy with the dish!!\n",
      "2. Loaded nachos -\n",
      "This happened to be their one of the best dishes, but now I take back my words. Very dissapointed with the dish.\n",
      "\n",
      "Main course:\n",
      "sicilia pizza\n",
      "Pizza was too good, it's a must try dish.\n",
      "\n",
      "Finally I would recommend this place for churros and pizza .\n",
      "\n",
      "Taste : 6/10\n",
      "Ambience :7/10\n",
      "Value for money : 8/10\n",
      "\n",
      "Overall experience : 7.5/10\n",
      "Been here a couple of times. Highly satisfying on both the ocassions. Great food. Decent service. At price of 160 per person it is of a great value. The staff here serves in a traditional Mysore style dresses. The food is authentic Karnataka meals. I really liked the pineapple pickle/chutney. They serve some 4 varities of rice of which you shouldn't try all as you would already be full. Roti, Dosa were decent. In the deserts, Payasam& Holige were good.\n",
      "I think it is one the must try places to try some authentic south food even if you have been to the likes of Kamath etc. this one is a little different. :)\n",
      "I went to this restaurant on Sunday afternoon.It was a bit crowded.\n",
      "\n",
      "Its located in the 1st floor Above anna kuteera kathriguppe\n",
      "\n",
      "You need to take food coupon in the ground floor itself.\n",
      "it was 160 rs.\n",
      "\n",
      "Taste wise it was good.\n",
      "Service was slow.\n",
      "Nothing exciting/different in the menu.\n",
      "Whatever they serve its good.\n",
      "Worth for money.\n",
      "Excellent Ambience with delicious meals with 10-15 variety types. Worth paying for money and you can dine out if you are with more friends/relatives in home.\n",
      "Very good restaurant in neighbourhood. Buffet system is properly arranged. Variety of dishes along with garba dance and puppet show. Good spread of desserts. Live paratha / Kulcha making\n",
      "Great service, overwhelming experience.\n",
      "\n",
      "One of its kind experience. Grand village offers you some very desi food options.\n",
      "\n",
      "Jaljeera, buttermilk, chat papdi, bhajiya, dosa, pav bhaji, noodles, and so many curries kulcha, roti, and garama garam Jalebies, gulab jamuns.\n",
      "\n",
      "Beautiful ambience of village. People serving with smiles and with full heart !!\n",
      "\n",
      "So here goes my overall ratings :\n",
      "Food : 4/5\n",
      "Ambience : 3.5/5\n",
      "Service : 4/5\n",
      "Pocket friendly : 4/5\n",
      "Food 3/5\n",
      "Ambience 3/5\n",
      "Service 3/5\n",
      "\n",
      "Had been here for family lunch. This place serves buffets too. We ordered soups, babycorn starters, butter naan, kadai panner, veg kohlapuri, pease pulav. Food was good. But the service is too slow. They will make you wait for 20 mins to get the order. This place is apt for family hangout.\n",
      "\n",
      "Cheers.\n",
      "Bakasuras Paradise!\n",
      "\n",
      "The only place that can keep the bakasuras belly happy!\n",
      "My 6th visit, and my 5th different onesta visit!\n",
      "From RR nagar, JP Nagar, Basavanagudi, Koramangala bakasura ended up at an onesta in Banashankari as well!\n",
      "Every visit , it's the unlimited meal that I have had. But, but, but there is a change that's happening. From unlimited pizza, unlimited dessert and a beverage (mocktails and everything) to unlimited pizza, one dessert and one aerated beverage (coke/Pepsi/fanta) , I have been through all! And yet, it never disappoints!\n",
      "The pizzas here are just fab and you can hardly eat like 4-5 pizzas in one sitting (bakasura can.. can you? Yes you can)\n",
      "Coming to the staff, they are great.\n",
      "Coming to the quality, it's great.\n",
      "\n",
      "To finish!\n",
      "Be like onesta!\n",
      "\n",
      "It's Bakasura Recommended\n",
      "Food- 10/10\n",
      "Ambience- 10/10\n",
      "Staff- 10/10\n",
      "Value for money- 25/10\n",
      "\n",
      "Onesta Love!\n",
      "Food : 4/5\n",
      "Service: 10/5\n",
      "So let's get over the food and the ambience first. Restaurant is big, with high roof, give a sense of space, well lit. Food is great, not mind blowing. We took the unlimited menu, and loved the bacon pizza most. Rest of the pizza was good enough. Among the deserts, the walnut tart was superb, but i didn't like the peanut-butter mousse at all.\n",
      "\n",
      "But, in spite of all that, the reason for the 5-star rating is the service we got. We were served by Mr.Nanda, who made us feel absolutely special. He didn't have to. We were a small party of just two people, we weren't ordering off the main menu, and the restaurant discourages tips. In spite of all that, he was extremely attentive (without being intrusive), engaging and helpful. I have been to quite some places, from roadside ones to five-star hotels, rarely have the service been so heart warmingly good. I hope he goes onto much much greater things in life, because he is absolutely brilliant at his work.\n",
      "Ambiance - 4/5\n",
      "Service - 4/5\n",
      "Food - 4/5\n",
      "\n",
      "Great pizza, served hot and made to order. They take note of what crusts you want for your pizza and I had the thin crust, so I could eat more, and the crust was made amazing also so was the pizza.\n",
      "The service is really good and the place is clean also. All in all wonderful place and another great restaurant part of the franchise.\n",
      "Food : 4/5\n",
      "Service: 10/5\n",
      "So let's get over the food and the ambience first. Restaurant is big, with high roof, give a sense of space, well lit. Food is great, not mind blowing. We took the unlimited menu, and loved the bacon pizza most. Rest of the pizza was good enough. Among the deserts, the walnut tart was superb, but i didn't like the peanut-butter mousse at all.\n",
      "\n",
      "But, in spite of all that, the reason for the 5-star rating is the service we got. We were served by Mr.Nanda, who made us feel absolutely special. He didn't have to. We were a small party of just two people, we weren't ordering off the main menu, and the restaurant discourages tips. In spite of all that, he was extremely attentive (without being intrusive), engaging and helpful. I have been to quite some places, from roadside ones to five-star hotels, rarely have the service been so heart warmingly good. I hope he goes onto much much greater things in life, because he is absolutely brilliant at his work.\n",
      "Ambiance - 4/5\n",
      "Service - 4/5\n",
      "Food - 4/5\n",
      "\n",
      "Great pizza, served hot and made to order. They take note of what crusts you want for your pizza and I had the thin crust, so I could eat more, and the crust was made amazing also so was the pizza.\n",
      "The service is really good and the place is clean also. All in all wonderful place and another great restaurant part of the franchise.\n",
      "Food : 4/5\n",
      "Service: 10/5\n",
      "So let's get over the food and the ambience first. Restaurant is big, with high roof, give a sense of space, well lit. Food is great, not mind blowing. We took the unlimited menu, and loved the bacon pizza most. Rest of the pizza was good enough. Among the deserts, the walnut tart was superb, but i didn't like the peanut-butter mousse at all.\n",
      "\n",
      "But, in spite of all that, the reason for the 5-star rating is the service we got. We were served by Mr.Nanda, who made us feel absolutely special. He didn't have to. We were a small party of just two people, we weren't ordering off the main menu, and the restaurant discourages tips. In spite of all that, he was extremely attentive (without being intrusive), engaging and helpful. I have been to quite some places, from roadside ones to five-star hotels, rarely have the service been so heart warmingly good. I hope he goes onto much much greater things in life, because he is absolutely brilliant at his work.\n",
      "Ambiance - 4/5\n",
      "Service - 4/5\n",
      "Food - 4/5\n",
      "\n",
      "Great pizza, served hot and made to order. They take note of what crusts you want for your pizza and I had the thin crust, so I could eat more, and the crust was made amazing also so was the pizza.\n",
      "The service is really good and the place is clean also. All in all wonderful place and another great restaurant part of the franchise.\n",
      "Food : 4/5\n",
      "Service: 10/5\n",
      "So let's get over the food and the ambience first. Restaurant is big, with high roof, give a sense of space, well lit. Food is great, not mind blowing. We took the unlimited menu, and loved the bacon pizza most. Rest of the pizza was good enough. Among the deserts, the walnut tart was superb, but i didn't like the peanut-butter mousse at all.\n",
      "\n",
      "But, in spite of all that, the reason for the 5-star rating is the service we got. We were served by Mr.Nanda, who made us feel absolutely special. He didn't have to. We were a small party of just two people, we weren't ordering off the main menu, and the restaurant discourages tips. In spite of all that, he was extremely attentive (without being intrusive), engaging and helpful. I have been to quite some places, from roadside ones to five-star hotels, rarely have the service been so heart warmingly good. I hope he goes onto much much greater things in life, because he is absolutely brilliant at his work.\n",
      "Ambiance - 4/5\n",
      "Service - 4/5\n",
      "Food - 4/5\n",
      "\n",
      "Great pizza, served hot and made to order. They take note of what crusts you want for your pizza and I had the thin crust, so I could eat more, and the crust was made amazing also so was the pizza.\n",
      "The service is really good and the place is clean also. All in all wonderful place and another great restaurant part of the franchise.\n",
      "Food : 4/5\n",
      "Service: 10/5\n",
      "So let's get over the food and the ambience first. Restaurant is big, with high roof, give a sense of space, well lit. Food is great, not mind blowing. We took the unlimited menu, and loved the bacon pizza most. Rest of the pizza was good enough. Among the deserts, the walnut tart was superb, but i didn't like the peanut-butter mousse at all.\n",
      "\n",
      "But, in spite of all that, the reason for the 5-star rating is the service we got. We were served by Mr.Nanda, who made us feel absolutely special. He didn't have to. We were a small party of just two people, we weren't ordering off the main menu, and the restaurant discourages tips. In spite of all that, he was extremely attentive (without being intrusive), engaging and helpful. I have been to quite some places, from roadside ones to five-star hotels, rarely have the service been so heart warmingly good. I hope he goes onto much much greater things in life, because he is absolutely brilliant at his work.\n",
      "Ambiance - 4/5\n",
      "Service - 4/5\n",
      "Food - 4/5\n",
      "\n",
      "Great pizza, served hot and made to order. They take note of what crusts you want for your pizza and I had the thin crust, so I could eat more, and the crust was made amazing also so was the pizza.\n",
      "The service is really good and the place is clean also. All in all wonderful place and another great restaurant part of the franchise.\n",
      "Food : 4/5\n",
      "Service: 10/5\n",
      "So let's get over the food and the ambience first. Restaurant is big, with high roof, give a sense of space, well lit. Food is great, not mind blowing. We took the unlimited menu, and loved the bacon pizza most. Rest of the pizza was good enough. Among the deserts, the walnut tart was superb, but i didn't like the peanut-butter mousse at all.\n",
      "\n",
      "But, in spite of all that, the reason for the 5-star rating is the service we got. We were served by Mr.Nanda, who made us feel absolutely special. He didn't have to. We were a small party of just two people, we weren't ordering off the main menu, and the restaurant discourages tips. In spite of all that, he was extremely attentive (without being intrusive), engaging and helpful. I have been to quite some places, from roadside ones to five-star hotels, rarely have the service been so heart warmingly good. I hope he goes onto much much greater things in life, because he is absolutely brilliant at his work.\n",
      "Ambiance - 4/5\n",
      "Service - 4/5\n",
      "Food - 4/5\n",
      "\n",
      "Great pizza, served hot and made to order. They take note of what crusts you want for your pizza and I had the thin crust, so I could eat more, and the crust was made amazing also so was the pizza.\n",
      "The service is really good and the place is clean also. All in all wonderful place and another great restaurant part of the franchise.\n",
      "Food quality 4.5/5\n",
      "Hospitality 4/5\n",
      "Management response 4.5/5\n",
      "Cleanliness 4.5/5\n",
      "\n",
      "Ordered\n",
      "1) Assorted Bruschetta - It included Tomato Delight, Herbed Mushroom and Broccoli and cheese Bruschetta.\n",
      "\n",
      "2) Mexican Veg Delight pizza - It was topped with some Bell peppers, onion and some Cherry Tomato.\n",
      "\n",
      "3) Farmhouse Special- Topped with Baby corn, Bell pepper and mushroom\n",
      "\n",
      "4)Virgin Mojitos - Mint, Lime and sprit were main ingredients.\n",
      "5) Kiwi & Basil Fizz - Kiwi syrup, Basil leaves and sprit.\n",
      "\n",
      "6)Caramel Walnut Tart\n",
      "7) Chilli chocolate tart\n",
      "8) Baked Cherry Cheesecake\n",
      "9)Penne Al Pesto\n",
      "I had been to this place with one of my friends, it's a very small place but decent. And nice place to hangout.\n",
      "Food-3.5/5\n",
      "Ambience-4/5\n",
      "Value for money 3.5/5\n",
      "Went out to try their burgers and they were pretty good. The ambience was that of a rustic pub and the people are nice. The service is pretty slow.\n",
      "Food - 3.5/5\n",
      "Ambience - 4/5\n",
      "Service - 3.5/5\n"
     ]
    }
   ],
   "source": [
    "# Removing ratings inside the texts\n",
    "docs_with_ratings = []\n",
    "for doc in ratings_df['doc'][:150]:\n",
    "    if '/' in doc:\n",
    "        print(doc)\n",
    "        docs_with_ratings.append(doc)"
   ]
  },
  {
   "cell_type": "code",
   "execution_count": 35,
   "id": "45ad039f",
   "metadata": {},
   "outputs": [
    {
     "name": "stdout",
     "output_type": "stream",
     "text": [
      "26\n"
     ]
    }
   ],
   "source": [
    "print(len(docs_with_ratings))"
   ]
  },
  {
   "cell_type": "code",
   "execution_count": 36,
   "id": "634297dd",
   "metadata": {},
   "outputs": [
    {
     "name": "stdout",
     "output_type": "stream",
     "text": [
      "['5/5', '5/5', '5/5', '5/5']\n",
      "['4/5', '3/5', '4/5', '4/5']\n",
      "['8/10', '8/10', '8/10']\n",
      "['6/10', '7/10', '8/10', '7.5/10']\n",
      "[]\n",
      "[]\n",
      "[]\n",
      "[]\n",
      "['4/5', '3.5/5', '4/5', '4/5']\n",
      "['3/5', '3/5', '3/5']\n",
      "['10/10', '10/10', '10/10', '25/10']\n",
      "['4/5', '10/5']\n",
      "['4/5', '4/5', '4/5']\n",
      "['4/5', '10/5']\n",
      "['4/5', '4/5', '4/5']\n",
      "['4/5', '10/5']\n",
      "['4/5', '4/5', '4/5']\n",
      "['4/5', '10/5']\n",
      "['4/5', '4/5', '4/5']\n",
      "['4/5', '10/5']\n",
      "['4/5', '4/5', '4/5']\n",
      "['4/5', '10/5']\n",
      "['4/5', '4/5', '4/5']\n",
      "['4.5/5', '4/5', '4.5/5', '4.5/5']\n",
      "['3.5/5', '4/5', '3.5/5']\n",
      "['3.5/5', '4/5', '3.5/5']\n"
     ]
    }
   ],
   "source": [
    "#We will use Regex to find and replace all the occurences of ratings.\n",
    "for docs in docs_with_ratings:\n",
    "    x = re.findall('[0-9.]*[0-9]/[0-9]*[0-9]', docs)\n",
    "    print(x)"
   ]
  },
  {
   "cell_type": "code",
   "execution_count": 37,
   "id": "083c9658",
   "metadata": {},
   "outputs": [
    {
     "name": "stdout",
     "output_type": "stream",
     "text": [
      "ORIGINAL:\n",
      "Great food and pleasant ambience. Expensive but Coll place to chill and relax......\n",
      "\n",
      "Service is really very very good and friendly staff...\n",
      "\n",
      "Food : 5/5\n",
      "Service : 5/5\n",
      "Ambience :5/5\n",
      "Overall :5/5\n",
      "\n",
      "SUBBED:\n",
      "Great food and pleasant ambience. Expensive but Coll place to chill and relax......\n",
      "\n",
      "Service is really very very good and friendly staff...\n",
      "\n",
      "Food : score\n",
      "Service : score\n",
      "Ambience :score\n",
      "Overall :score\n"
     ]
    }
   ],
   "source": [
    "#substituting 'score' in place of ratings in the texts\n",
    "doc = docs_with_ratings[0]\n",
    "subbed_doc = re.sub('[0-9.]*[0-9]/[0-9]*[0-9]', 'score', doc)\n",
    "print(\"ORIGINAL:\")\n",
    "print(doc)\n",
    "print(\"\\nSUBBED:\")\n",
    "print(subbed_doc)"
   ]
  },
  {
   "cell_type": "code",
   "execution_count": 38,
   "id": "5c45b7a4",
   "metadata": {},
   "outputs": [
    {
     "data": {
      "text/html": [
       "<div>\n",
       "<style scoped>\n",
       "    .dataframe tbody tr th:only-of-type {\n",
       "        vertical-align: middle;\n",
       "    }\n",
       "\n",
       "    .dataframe tbody tr th {\n",
       "        vertical-align: top;\n",
       "    }\n",
       "\n",
       "    .dataframe thead th {\n",
       "        text-align: right;\n",
       "    }\n",
       "</style>\n",
       "<table border=\"1\" class=\"dataframe\">\n",
       "  <thead>\n",
       "    <tr style=\"text-align: right;\">\n",
       "      <th></th>\n",
       "      <th>score</th>\n",
       "      <th>doc</th>\n",
       "    </tr>\n",
       "  </thead>\n",
       "  <tbody>\n",
       "    <tr>\n",
       "      <th>0</th>\n",
       "      <td>4.0</td>\n",
       "      <td>A beautiful place to dine in.The interiors tak...</td>\n",
       "    </tr>\n",
       "    <tr>\n",
       "      <th>1</th>\n",
       "      <td>4.0</td>\n",
       "      <td>I was here for dinner with my family on a week...</td>\n",
       "    </tr>\n",
       "    <tr>\n",
       "      <th>2</th>\n",
       "      <td>2.0</td>\n",
       "      <td>Its a restaurant near to Banashankari BDA. Me ...</td>\n",
       "    </tr>\n",
       "    <tr>\n",
       "      <th>3</th>\n",
       "      <td>4.0</td>\n",
       "      <td>We went here on a weekend and one of us had th...</td>\n",
       "    </tr>\n",
       "    <tr>\n",
       "      <th>4</th>\n",
       "      <td>5.0</td>\n",
       "      <td>The best thing about the place is itÃÃÃÃ...</td>\n",
       "    </tr>\n",
       "  </tbody>\n",
       "</table>\n",
       "</div>"
      ],
      "text/plain": [
       "   score                                                doc\n",
       "0    4.0  A beautiful place to dine in.The interiors tak...\n",
       "1    4.0  I was here for dinner with my family on a week...\n",
       "2    2.0  Its a restaurant near to Banashankari BDA. Me ...\n",
       "3    4.0  We went here on a weekend and one of us had th...\n",
       "4    5.0  The best thing about the place is itÃÃÃÃ..."
      ]
     },
     "execution_count": 38,
     "metadata": {},
     "output_type": "execute_result"
    }
   ],
   "source": [
    "#text preprocessing \n",
    "ratings_df.head()"
   ]
  },
  {
   "cell_type": "code",
   "execution_count": 39,
   "id": "d3f3719b",
   "metadata": {},
   "outputs": [],
   "source": [
    "#text lower casing\n",
    "ratings_df['review'] = ratings_df['doc'].str.lower()"
   ]
  },
  {
   "cell_type": "code",
   "execution_count": 40,
   "id": "e1a67357",
   "metadata": {},
   "outputs": [
    {
     "name": "stdout",
     "output_type": "stream",
     "text": [
      "<class 'pandas.core.frame.DataFrame'>\n",
      "RangeIndex: 1228794 entries, 0 to 1228793\n",
      "Data columns (total 3 columns):\n",
      " #   Column  Non-Null Count    Dtype  \n",
      "---  ------  --------------    -----  \n",
      " 0   score   1228794 non-null  float64\n",
      " 1   doc     1228794 non-null  object \n",
      " 2   review  1228794 non-null  object \n",
      "dtypes: float64(1), object(2)\n",
      "memory usage: 28.1+ MB\n"
     ]
    }
   ],
   "source": [
    "ratings_df.info()"
   ]
  },
  {
   "cell_type": "code",
   "execution_count": 41,
   "id": "029f11af",
   "metadata": {},
   "outputs": [],
   "source": [
    "#removing punctuations\n",
    "import string\n",
    "def remove_punctuations(text):\n",
    "    for punctuation in string.punctuation:\n",
    "        text = text.replace(punctuation, '')\n",
    "    return text\n",
    "# Apply to the DF series\n",
    "ratings_df['review'] = ratings_df['review'].apply(remove_punctuations)"
   ]
  },
  {
   "cell_type": "code",
   "execution_count": 42,
   "id": "791480a7",
   "metadata": {},
   "outputs": [],
   "source": [
    "ratings_df=ratings_df.drop(['doc'],axis=1)"
   ]
  },
  {
   "cell_type": "code",
   "execution_count": 43,
   "id": "f2cfd16b",
   "metadata": {},
   "outputs": [
    {
     "data": {
      "text/html": [
       "<div>\n",
       "<style scoped>\n",
       "    .dataframe tbody tr th:only-of-type {\n",
       "        vertical-align: middle;\n",
       "    }\n",
       "\n",
       "    .dataframe tbody tr th {\n",
       "        vertical-align: top;\n",
       "    }\n",
       "\n",
       "    .dataframe thead th {\n",
       "        text-align: right;\n",
       "    }\n",
       "</style>\n",
       "<table border=\"1\" class=\"dataframe\">\n",
       "  <thead>\n",
       "    <tr style=\"text-align: right;\">\n",
       "      <th></th>\n",
       "      <th>score</th>\n",
       "      <th>review</th>\n",
       "    </tr>\n",
       "  </thead>\n",
       "  <tbody>\n",
       "    <tr>\n",
       "      <th>0</th>\n",
       "      <td>4.0</td>\n",
       "      <td>a beautiful place to dine inthe interiors take...</td>\n",
       "    </tr>\n",
       "    <tr>\n",
       "      <th>1</th>\n",
       "      <td>4.0</td>\n",
       "      <td>i was here for dinner with my family on a week...</td>\n",
       "    </tr>\n",
       "    <tr>\n",
       "      <th>2</th>\n",
       "      <td>2.0</td>\n",
       "      <td>its a restaurant near to banashankari bda me a...</td>\n",
       "    </tr>\n",
       "    <tr>\n",
       "      <th>3</th>\n",
       "      <td>4.0</td>\n",
       "      <td>we went here on a weekend and one of us had th...</td>\n",
       "    </tr>\n",
       "    <tr>\n",
       "      <th>4</th>\n",
       "      <td>5.0</td>\n",
       "      <td>the best thing about the place is itãããã...</td>\n",
       "    </tr>\n",
       "  </tbody>\n",
       "</table>\n",
       "</div>"
      ],
      "text/plain": [
       "   score                                             review\n",
       "0    4.0  a beautiful place to dine inthe interiors take...\n",
       "1    4.0  i was here for dinner with my family on a week...\n",
       "2    2.0  its a restaurant near to banashankari bda me a...\n",
       "3    4.0  we went here on a weekend and one of us had th...\n",
       "4    5.0  the best thing about the place is itãããã..."
      ]
     },
     "execution_count": 43,
     "metadata": {},
     "output_type": "execute_result"
    }
   ],
   "source": [
    "ratings_df.head()"
   ]
  },
  {
   "cell_type": "code",
   "execution_count": 44,
   "id": "803a7636",
   "metadata": {},
   "outputs": [
    {
     "data": {
      "text/html": [
       "<div>\n",
       "<style scoped>\n",
       "    .dataframe tbody tr th:only-of-type {\n",
       "        vertical-align: middle;\n",
       "    }\n",
       "\n",
       "    .dataframe tbody tr th {\n",
       "        vertical-align: top;\n",
       "    }\n",
       "\n",
       "    .dataframe thead th {\n",
       "        text-align: right;\n",
       "    }\n",
       "</style>\n",
       "<table border=\"1\" class=\"dataframe\">\n",
       "  <thead>\n",
       "    <tr style=\"text-align: right;\">\n",
       "      <th></th>\n",
       "      <th>score</th>\n",
       "      <th>review</th>\n",
       "    </tr>\n",
       "  </thead>\n",
       "  <tbody>\n",
       "    <tr>\n",
       "      <th>1129140</th>\n",
       "      <td>5.0</td>\n",
       "      <td>amazing totally impressed place give place ful...</td>\n",
       "    </tr>\n",
       "  </tbody>\n",
       "</table>\n",
       "</div>"
      ],
      "text/plain": [
       "         score                                             review\n",
       "1129140    5.0  amazing totally impressed place give place ful..."
      ]
     },
     "execution_count": 44,
     "metadata": {},
     "output_type": "execute_result"
    }
   ],
   "source": [
    "## Removal of Stopwords\n",
    "from nltk.corpus import stopwords\n",
    "STOPWORDS = set(stopwords.words('english'))\n",
    "def remove_stopwords(text):\n",
    "    \"\"\"custom function to remove the stopwords\"\"\"\n",
    "    return \" \".join([word for word in str(text).split() if word not in STOPWORDS])\n",
    "\n",
    "ratings_df['review'] = ratings_df['review'].apply(lambda text: remove_stopwords(text))\n",
    "ratings_df.sample()"
   ]
  },
  {
   "cell_type": "code",
   "execution_count": 45,
   "id": "ab2dca2f",
   "metadata": {},
   "outputs": [
    {
     "data": {
      "text/html": [
       "<div>\n",
       "<style scoped>\n",
       "    .dataframe tbody tr th:only-of-type {\n",
       "        vertical-align: middle;\n",
       "    }\n",
       "\n",
       "    .dataframe tbody tr th {\n",
       "        vertical-align: top;\n",
       "    }\n",
       "\n",
       "    .dataframe thead th {\n",
       "        text-align: right;\n",
       "    }\n",
       "</style>\n",
       "<table border=\"1\" class=\"dataframe\">\n",
       "  <thead>\n",
       "    <tr style=\"text-align: right;\">\n",
       "      <th></th>\n",
       "      <th>score</th>\n",
       "      <th>review</th>\n",
       "    </tr>\n",
       "  </thead>\n",
       "  <tbody>\n",
       "    <tr>\n",
       "      <th>654575</th>\n",
       "      <td>3.0</td>\n",
       "      <td>asked spicy chicken roll received normal roll</td>\n",
       "    </tr>\n",
       "    <tr>\n",
       "      <th>543439</th>\n",
       "      <td>5.0</td>\n",
       "      <td>one best chefs town run cozy place food n wine...</td>\n",
       "    </tr>\n",
       "    <tr>\n",
       "      <th>1118326</th>\n",
       "      <td>3.0</td>\n",
       "      <td>good</td>\n",
       "    </tr>\n",
       "  </tbody>\n",
       "</table>\n",
       "</div>"
      ],
      "text/plain": [
       "         score                                             review\n",
       "654575     3.0      asked spicy chicken roll received normal roll\n",
       "543439     5.0  one best chefs town run cozy place food n wine...\n",
       "1118326    3.0                                               good"
      ]
     },
     "execution_count": 45,
     "metadata": {},
     "output_type": "execute_result"
    }
   ],
   "source": [
    "## Removal of urls\n",
    "def remove_urls(text):\n",
    "    url_pattern = re.compile(r'https?://\\S+|www\\.\\S+')\n",
    "    return url_pattern.sub(r'', text)\n",
    "\n",
    "ratings_df['review'] = ratings_df['review'].apply(lambda text: remove_urls(text))\n",
    "ratings_df.sample(3)"
   ]
  },
  {
   "cell_type": "code",
   "execution_count": 46,
   "id": "2f90f01e",
   "metadata": {},
   "outputs": [
    {
     "data": {
      "text/plain": [
       "score     1228794\n",
       "review    1228794\n",
       "dtype: int64"
      ]
     },
     "execution_count": 46,
     "metadata": {},
     "output_type": "execute_result"
    }
   ],
   "source": [
    "ratings_df.count()"
   ]
  },
  {
   "cell_type": "code",
   "execution_count": 47,
   "id": "46ba5283",
   "metadata": {},
   "outputs": [
    {
     "data": {
      "text/plain": [
       "score     1228794\n",
       "review    1228794\n",
       "dtype: int64"
      ]
     },
     "execution_count": 47,
     "metadata": {},
     "output_type": "execute_result"
    }
   ],
   "source": [
    "ratings_df.isnull().count()"
   ]
  },
  {
   "cell_type": "code",
   "execution_count": 48,
   "id": "219ec57c",
   "metadata": {},
   "outputs": [
    {
     "data": {
      "text/plain": [
       "(1228794, 2)"
      ]
     },
     "execution_count": 48,
     "metadata": {},
     "output_type": "execute_result"
    }
   ],
   "source": [
    "ratings_df.shape"
   ]
  },
  {
   "cell_type": "code",
   "execution_count": 49,
   "id": "071557a1",
   "metadata": {},
   "outputs": [],
   "source": [
    "Score=ratings_df.score.tolist()\n",
    "#new is capital Score"
   ]
  },
  {
   "cell_type": "code",
   "execution_count": 50,
   "id": "3477ee8a",
   "metadata": {},
   "outputs": [],
   "source": [
    "for i in range(0,len(Score)):\n",
    "    Score[i]=float(Score[i])"
   ]
  },
  {
   "cell_type": "code",
   "execution_count": 51,
   "id": "73ca15b4",
   "metadata": {},
   "outputs": [
    {
     "name": "stdout",
     "output_type": "stream",
     "text": [
      "[1.  1.5 2.  2.5 3.  3.5 4.  4.5 5. ]\n"
     ]
    }
   ],
   "source": [
    "print(np.unique(Score))"
   ]
  },
  {
   "cell_type": "code",
   "execution_count": 52,
   "id": "d4fe9dc7",
   "metadata": {},
   "outputs": [
    {
     "data": {
      "text/plain": [
       "(1228794, 3)"
      ]
     },
     "execution_count": 52,
     "metadata": {},
     "output_type": "execute_result"
    }
   ],
   "source": [
    "ratings_df['Score']=Score\n",
    "ratings_df.shape"
   ]
  },
  {
   "cell_type": "code",
   "execution_count": 53,
   "id": "aa67ef36",
   "metadata": {},
   "outputs": [
    {
     "data": {
      "image/png": "[encoded data removed]",
      "text/plain": [
       "<Figure size 432x288 with 1 Axes>"
      ]
     },
     "metadata": {},
     "output_type": "display_data"
    }
   ],
   "source": [
    "import matplotlib.pyplot as plt\n",
    "y=np.unique(Score)\n",
    "mylabels=[1,1.5,2,2.5,3,3.5,4,4.5,5]\n",
    "plt.pie(y,labels=mylabels,autopct='%1.1f%%',explode=(0.1,0.1,0.1,0.1,0.1,0.1,0.1,0.1,0.1))\n",
    "plt.legend(title='RATINGS',bbox_to_anchor=(2,1),loc='right')\n",
    "plt.title('Percentage of restaurants based on their ratings:')\n",
    "plt.show()"
   ]
  },
  {
   "cell_type": "code",
   "execution_count": 54,
   "id": "f0c6ed03",
   "metadata": {},
   "outputs": [
    {
     "data": {
      "text/plain": [
       "1228794"
      ]
     },
     "execution_count": 54,
     "metadata": {},
     "output_type": "execute_result"
    }
   ],
   "source": [
    " ratings_df['review'].count()"
   ]
  },
  {
   "cell_type": "code",
   "execution_count": 55,
   "id": "6964bda2",
   "metadata": {},
   "outputs": [
    {
     "data": {
      "text/plain": [
       "(0.996, 2.333]    215438\n",
       "(2.333, 3.667]    237027\n",
       "(3.667, 5.0]      776329\n",
       "Name: Score, dtype: int64"
      ]
     },
     "execution_count": 55,
     "metadata": {},
     "output_type": "execute_result"
    }
   ],
   "source": [
    "pd.cut(ratings_df['Score'],bins=3).value_counts(sort=False)"
   ]
  },
  {
   "cell_type": "code",
   "execution_count": 56,
   "id": "d8556d14",
   "metadata": {},
   "outputs": [
    {
     "name": "stdout",
     "output_type": "stream",
     "text": [
      "   score                                             review  Score sentiment\n",
      "0    4.0  beautiful place dine inthe interiors take back...    4.0  Positive\n",
      "1    4.0  dinner family weekday restaurant completely em...    4.0  Positive\n",
      "2    2.0  restaurant near banashankari bda along office ...    2.0  Negative\n",
      "3    4.0  went weekend one us buffet two us took ala car...    4.0  Positive\n",
      "4    5.0  best thing place itããããããããs a...    5.0  Positive\n"
     ]
    }
   ],
   "source": [
    "labels=['Negative','Neutral','Positive']\n",
    "ratings_df['sentiment']=pd.cut(ratings_df['Score'],bins=3,labels=labels)\n",
    "print(ratings_df.head(5))"
   ]
  },
  {
   "cell_type": "code",
   "execution_count": 57,
   "id": "d8be656e",
   "metadata": {},
   "outputs": [],
   "source": [
    "#dropping extra score column\n",
    "ratings_df.drop(['score'], axis='columns', inplace=True)"
   ]
  },
  {
   "cell_type": "code",
   "execution_count": 58,
   "id": "170c8e4b",
   "metadata": {},
   "outputs": [
    {
     "data": {
      "text/html": [
       "<div>\n",
       "<style scoped>\n",
       "    .dataframe tbody tr th:only-of-type {\n",
       "        vertical-align: middle;\n",
       "    }\n",
       "\n",
       "    .dataframe tbody tr th {\n",
       "        vertical-align: top;\n",
       "    }\n",
       "\n",
       "    .dataframe thead th {\n",
       "        text-align: right;\n",
       "    }\n",
       "</style>\n",
       "<table border=\"1\" class=\"dataframe\">\n",
       "  <thead>\n",
       "    <tr style=\"text-align: right;\">\n",
       "      <th></th>\n",
       "      <th>review</th>\n",
       "      <th>Score</th>\n",
       "      <th>sentiment</th>\n",
       "    </tr>\n",
       "  </thead>\n",
       "  <tbody>\n",
       "    <tr>\n",
       "      <th>0</th>\n",
       "      <td>beautiful place dine inthe interiors take back...</td>\n",
       "      <td>4.0</td>\n",
       "      <td>Positive</td>\n",
       "    </tr>\n",
       "    <tr>\n",
       "      <th>1</th>\n",
       "      <td>dinner family weekday restaurant completely em...</td>\n",
       "      <td>4.0</td>\n",
       "      <td>Positive</td>\n",
       "    </tr>\n",
       "    <tr>\n",
       "      <th>2</th>\n",
       "      <td>restaurant near banashankari bda along office ...</td>\n",
       "      <td>2.0</td>\n",
       "      <td>Negative</td>\n",
       "    </tr>\n",
       "    <tr>\n",
       "      <th>3</th>\n",
       "      <td>went weekend one us buffet two us took ala car...</td>\n",
       "      <td>4.0</td>\n",
       "      <td>Positive</td>\n",
       "    </tr>\n",
       "    <tr>\n",
       "      <th>4</th>\n",
       "      <td>best thing place itããããããããs a...</td>\n",
       "      <td>5.0</td>\n",
       "      <td>Positive</td>\n",
       "    </tr>\n",
       "  </tbody>\n",
       "</table>\n",
       "</div>"
      ],
      "text/plain": [
       "                                              review  Score sentiment\n",
       "0  beautiful place dine inthe interiors take back...    4.0  Positive\n",
       "1  dinner family weekday restaurant completely em...    4.0  Positive\n",
       "2  restaurant near banashankari bda along office ...    2.0  Negative\n",
       "3  went weekend one us buffet two us took ala car...    4.0  Positive\n",
       "4  best thing place itããããããããs a...    5.0  Positive"
      ]
     },
     "execution_count": 58,
     "metadata": {},
     "output_type": "execute_result"
    }
   ],
   "source": [
    "ratings_df.head()"
   ]
  },
  {
   "cell_type": "code",
   "execution_count": 59,
   "id": "ee4f8248",
   "metadata": {},
   "outputs": [],
   "source": [
    "ratings_df.drop(['Score'],axis=1,inplace=True)"
   ]
  },
  {
   "cell_type": "code",
   "execution_count": 60,
   "id": "17e85464",
   "metadata": {},
   "outputs": [
    {
     "name": "stdout",
     "output_type": "stream",
     "text": [
      "<class 'pandas.core.frame.DataFrame'>\n",
      "RangeIndex: 1228794 entries, 0 to 1228793\n",
      "Data columns (total 2 columns):\n",
      " #   Column     Non-Null Count    Dtype   \n",
      "---  ------     --------------    -----   \n",
      " 0   review     1228794 non-null  object  \n",
      " 1   sentiment  1228794 non-null  category\n",
      "dtypes: category(1), object(1)\n",
      "memory usage: 10.5+ MB\n"
     ]
    }
   ],
   "source": [
    "ratings_df.info()"
   ]
  },
  {
   "cell_type": "markdown",
   "id": "cb95acd0",
   "metadata": {},
   "source": [
    "# MODEL TRAINING"
   ]
  },
  {
   "cell_type": "code",
   "execution_count": 61,
   "id": "85c9c358",
   "metadata": {},
   "outputs": [
    {
     "name": "stdout",
     "output_type": "stream",
     "text": [
      "X_train: 921595\n",
      "X_test: 307199\n",
      "Y_train: 921595\n",
      "Y_test: 307199\n"
     ]
    }
   ],
   "source": [
    "X = ratings_df['review']\n",
    "Y = ratings_df['sentiment']\n",
    "X_train,X_test,Y_train,Y_test=train_test_split(X,Y,test_size=0.25)\n",
    "print(\"X_train:\",len(X_train))\n",
    "print(\"X_test:\",len(X_test))\n",
    "print(\"Y_train:\",len(Y_train))\n",
    "print(\"Y_test:\",len(Y_test))"
   ]
  },
  {
   "cell_type": "code",
   "execution_count": 62,
   "id": "b9b6de40",
   "metadata": {},
   "outputs": [],
   "source": [
    "from sklearn.feature_extraction.text import TfidfVectorizer\n",
    "from sklearn.linear_model import LogisticRegression\n",
    "tvec = TfidfVectorizer()\n",
    "clf2 = LogisticRegression(solver = 'lbfgs')"
   ]
  },
  {
   "cell_type": "code",
   "execution_count": 63,
   "id": "c70843c7",
   "metadata": {},
   "outputs": [
    {
     "data": {
      "text/plain": [
       "Pipeline(steps=[('vectorizer', TfidfVectorizer()),\n",
       "                ('classifier', LogisticRegression())])"
      ]
     },
     "execution_count": 63,
     "metadata": {},
     "output_type": "execute_result"
    }
   ],
   "source": [
    "from sklearn.pipeline import Pipeline\n",
    "model = Pipeline([('vectorizer',tvec),('classifier',clf2)])\n",
    "model.fit(X_train,Y_train)"
   ]
  },
  {
   "cell_type": "code",
   "execution_count": 64,
   "id": "b86fac72",
   "metadata": {},
   "outputs": [
    {
     "data": {
      "text/plain": [
       "array([[ 47261,   4588,   2140],\n",
       "       [  3422,  40922,   6327],\n",
       "       [  2933,  13806, 185800]], dtype=int64)"
      ]
     },
     "execution_count": 64,
     "metadata": {},
     "output_type": "execute_result"
    }
   ],
   "source": [
    "from sklearn.metrics import confusion_matrix\n",
    "predictions=model.predict(X_test)\n",
    "confusion_matrix(predictions,Y_test)"
   ]
  },
  {
   "cell_type": "code",
   "execution_count": 65,
   "id": "8b9cb64f",
   "metadata": {},
   "outputs": [
    {
     "name": "stdout",
     "output_type": "stream",
     "text": [
      "Accuracy :  0.8918746480294533\n",
      "Precision :  0.8992838180841394\n",
      "Recall :  0.8918746480294533\n"
     ]
    }
   ],
   "source": [
    "from sklearn.metrics import accuracy_score,precision_score,recall_score\n",
    "print(\"Accuracy : \",accuracy_score(predictions,Y_test))\n",
    "print(\"Precision : \",precision_score(predictions,Y_test,average='weighted'))\n",
    "print(\"Recall : \",recall_score(predictions,Y_test,average='weighted'))"
   ]
  },
  {
   "cell_type": "markdown",
   "id": "842641e0",
   "metadata": {},
   "source": [
    "# PREDICTING MODEL"
   ]
  },
  {
   "cell_type": "code",
   "execution_count": 73,
   "id": "5a524ab4",
   "metadata": {},
   "outputs": [
    {
     "name": "stdout",
     "output_type": "stream",
     "text": [
      "['Negative']\n"
     ]
    }
   ],
   "source": [
    "example=['worst']\n",
    "result=model.predict(example)\n",
    "print(result)"
   ]
  },
  {
   "cell_type": "code",
   "execution_count": null,
   "id": "21c2b5f5",
   "metadata": {},
   "outputs": [],
   "source": []
  },
  {
   "cell_type": "code",
   "execution_count": null,
   "id": "5ff8e3ea",
   "metadata": {},
   "outputs": [],
   "source": []
  }
 ],
 "metadata": {
  "kernelspec": {
   "display_name": "Python 3 (ipykernel)",
   "language": "python",
   "name": "python3"
  },
  "language_info": {
   "codemirror_mode": {
    "name": "ipython",
    "version": 3
   },
   "file_extension": ".py",
   "mimetype": "text/x-python",
   "name": "python",
   "nbconvert_exporter": "python",
   "pygments_lexer": "ipython3",
   "version": "3.9.7"
  }
 },
 "nbformat": 4,
 "nbformat_minor": 5
}
